{
 "cells": [
  {
   "cell_type": "code",
   "execution_count": 1,
   "metadata": {},
   "outputs": [],
   "source": [
    "import os\n",
    "import glob\n",
    "\n",
    "import pandas as pd\n",
    "import numpy as np\n",
    "import matplotlib.pyplot as plt\n",
    "import seaborn as sns"
   ]
  },
  {
   "cell_type": "code",
   "execution_count": 2,
   "metadata": {},
   "outputs": [],
   "source": [
    "data_path = '../data'"
   ]
  },
  {
   "cell_type": "code",
   "execution_count": 3,
   "metadata": {},
   "outputs": [
    {
     "data": {
      "text/plain": [
       "['../data\\\\cross_validation_data',\n",
       " '../data\\\\cross_validation_data.rar',\n",
       " '../data\\\\quora_duplicate_questions.tsv',\n",
       " '../data\\\\README.md']"
      ]
     },
     "execution_count": 3,
     "metadata": {},
     "output_type": "execute_result"
    }
   ],
   "source": [
    "glob.glob(os.path.join(data_path, '*'))"
   ]
  },
  {
   "cell_type": "code",
   "execution_count": 4,
   "metadata": {},
   "outputs": [
    {
     "name": "stderr",
     "output_type": "stream",
     "text": [
      "C:\\Users\\Andreas Chandra\\AppData\\Local\\Continuum\\anaconda3\\lib\\site-packages\\ipykernel_launcher.py:1: FutureWarning: read_table is deprecated, use read_csv instead, passing sep='\\t'.\n",
      "  \"\"\"Entry point for launching an IPython kernel.\n"
     ]
    }
   ],
   "source": [
    "d_data = pd.read_table('../data/quora_duplicate_questions.tsv')"
   ]
  },
  {
   "cell_type": "markdown",
   "metadata": {},
   "source": [
    "### description"
   ]
  },
  {
   "cell_type": "code",
   "execution_count": 5,
   "metadata": {},
   "outputs": [
    {
     "data": {
      "text/plain": [
       "(404290, 6)"
      ]
     },
     "execution_count": 5,
     "metadata": {},
     "output_type": "execute_result"
    }
   ],
   "source": [
    "d_data.shape"
   ]
  },
  {
   "cell_type": "code",
   "execution_count": 8,
   "metadata": {},
   "outputs": [
    {
     "name": "stdout",
     "output_type": "stream",
     "text": [
      "What is the step by step guide to invest in share market in india? | What is the step by step guide to invest in share market in india? 0\n",
      "====================\n",
      "What is the story of Kohinoor (Koh-i-Noor) Diamond? | What is the story of Kohinoor (Koh-i-Noor) Diamond? 0\n",
      "====================\n",
      "How can I increase the speed of my internet connection while using a VPN? | How can I increase the speed of my internet connection while using a VPN? 0\n",
      "====================\n",
      "Why am I mentally very lonely? How can I solve it? | Why am I mentally very lonely? How can I solve it? 0\n",
      "====================\n",
      "Which one dissolve in water quikly sugar, salt, methane and carbon di oxide? | Which one dissolve in water quikly sugar, salt, methane and carbon di oxide? 0\n",
      "====================\n"
     ]
    }
   ],
   "source": [
    "for index in d_data.index[:5]:\n",
    "    print(d_data.loc[index, \"question1\"], \"|\", d_data.loc[index, \"question1\"], d_data.loc[index, \"is_duplicate\"])\n",
    "    print(\"====================\")"
   ]
  },
  {
   "cell_type": "code",
   "execution_count": 11,
   "metadata": {},
   "outputs": [
    {
     "name": "stdout",
     "output_type": "stream",
     "text": [
      "Astrology: I am a Capricorn Sun Cap moon and cap rising...what does that say about me? | Astrology: I am a Capricorn Sun Cap moon and cap rising...what does that say about me? 1\n",
      "====================\n",
      "How can I be a good geologist? | How can I be a good geologist? 1\n",
      "====================\n",
      "How do I read and find my YouTube comments? | How do I read and find my YouTube comments? 1\n",
      "====================\n",
      "What can make Physics easy to learn? | What can make Physics easy to learn? 1\n",
      "====================\n",
      "What was your first sexual experience like? | What was your first sexual experience like? 1\n",
      "====================\n"
     ]
    }
   ],
   "source": [
    "for index in d_data[d_data[\"is_duplicate\"] == 1].index[:5]:\n",
    "    print(d_data.loc[index, \"question1\"], \"|\", d_data.loc[index, \"question1\"], d_data.loc[index, \"is_duplicate\"])\n",
    "    print(\"====================\")"
   ]
  },
  {
   "cell_type": "code",
   "execution_count": 7,
   "metadata": {},
   "outputs": [
    {
     "data": {
      "text/plain": [
       "0    255027\n",
       "1    149263\n",
       "Name: is_duplicate, dtype: int64"
      ]
     },
     "execution_count": 7,
     "metadata": {},
     "output_type": "execute_result"
    }
   ],
   "source": [
    "d_data.is_duplicate.value_counts()"
   ]
  },
  {
   "cell_type": "code",
   "execution_count": 8,
   "metadata": {},
   "outputs": [
    {
     "data": {
      "text/plain": [
       "0.6307972000296816"
      ]
     },
     "execution_count": 8,
     "metadata": {},
     "output_type": "execute_result"
    }
   ],
   "source": [
    "255025 / d_data.shape[0]"
   ]
  },
  {
   "cell_type": "code",
   "execution_count": null,
   "metadata": {},
   "outputs": [],
   "source": [
    "d_data.isna().sum()"
   ]
  },
  {
   "cell_type": "code",
   "execution_count": null,
   "metadata": {},
   "outputs": [],
   "source": [
    "d_data.question1.str.len().describe()"
   ]
  },
  {
   "cell_type": "code",
   "execution_count": null,
   "metadata": {},
   "outputs": [],
   "source": [
    "d_data.question2.str.len().describe()"
   ]
  },
  {
   "cell_type": "code",
   "execution_count": null,
   "metadata": {},
   "outputs": [],
   "source": [
    "for idx in d_data[d_data[\"is_duplicate\"] == 0].index[-100:]:\n",
    "    print(d_data.loc[idx, \"question1\"], \" | \", d_data.loc[idx, \"question2\"])\n",
    "    print('\\n')"
   ]
  },
  {
   "cell_type": "code",
   "execution_count": null,
   "metadata": {},
   "outputs": [],
   "source": [
    "d_data[d_data.question1.str.len() < 10].head()"
   ]
  },
  {
   "cell_type": "code",
   "execution_count": null,
   "metadata": {},
   "outputs": [],
   "source": [
    "d_data[d_data.question2.str.len() < 10].head()"
   ]
  },
  {
   "cell_type": "code",
   "execution_count": null,
   "metadata": {},
   "outputs": [],
   "source": []
  }
 ],
 "metadata": {
  "kernelspec": {
   "display_name": "Python 3",
   "language": "python",
   "name": "python3"
  },
  "language_info": {
   "codemirror_mode": {
    "name": "ipython",
    "version": 3
   },
   "file_extension": ".py",
   "mimetype": "text/x-python",
   "name": "python",
   "nbconvert_exporter": "python",
   "pygments_lexer": "ipython3",
   "version": "3.7.3"
  }
 },
 "nbformat": 4,
 "nbformat_minor": 4
}
