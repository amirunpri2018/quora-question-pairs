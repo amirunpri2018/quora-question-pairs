{
  "nbformat": 4,
  "nbformat_minor": 0,
  "metadata": {
    "colab": {
      "name": "R2_word2vec.ipynb",
      "provenance": [],
      "collapsed_sections": [],
      "authorship_tag": "ABX9TyM3bws8/KNT6nAtIz5pK2Hr",
      "include_colab_link": true
    },
    "kernelspec": {
      "name": "python3",
      "display_name": "Python 3"
    },
    "widgets": {
      "application/vnd.jupyter.widget-state+json": {
        "0c94c8888abd433d8d8eada91fa5a4d7": {
          "model_module": "@jupyter-widgets/controls",
          "model_name": "HBoxModel",
          "state": {
            "_view_name": "HBoxView",
            "_dom_classes": [],
            "_model_name": "HBoxModel",
            "_view_module": "@jupyter-widgets/controls",
            "_model_module_version": "1.5.0",
            "_view_count": null,
            "_view_module_version": "1.5.0",
            "box_style": "",
            "layout": "IPY_MODEL_eb91279d9a4947d5ab7b1cdf00b648a0",
            "_model_module": "@jupyter-widgets/controls",
            "children": [
              "IPY_MODEL_247b7da11318494abfbd61cb51067d22",
              "IPY_MODEL_998b17c8c4de43edb309ca95d7f75515"
            ]
          }
        },
        "eb91279d9a4947d5ab7b1cdf00b648a0": {
          "model_module": "@jupyter-widgets/base",
          "model_name": "LayoutModel",
          "state": {
            "_view_name": "LayoutView",
            "grid_template_rows": null,
            "right": null,
            "justify_content": null,
            "_view_module": "@jupyter-widgets/base",
            "overflow": null,
            "_model_module_version": "1.2.0",
            "_view_count": null,
            "flex_flow": null,
            "width": null,
            "min_width": null,
            "border": null,
            "align_items": null,
            "bottom": null,
            "_model_module": "@jupyter-widgets/base",
            "top": null,
            "grid_column": null,
            "overflow_y": null,
            "overflow_x": null,
            "grid_auto_flow": null,
            "grid_area": null,
            "grid_template_columns": null,
            "flex": null,
            "_model_name": "LayoutModel",
            "justify_items": null,
            "grid_row": null,
            "max_height": null,
            "align_content": null,
            "visibility": null,
            "align_self": null,
            "height": null,
            "min_height": null,
            "padding": null,
            "grid_auto_rows": null,
            "grid_gap": null,
            "max_width": null,
            "order": null,
            "_view_module_version": "1.2.0",
            "grid_template_areas": null,
            "object_position": null,
            "object_fit": null,
            "grid_auto_columns": null,
            "margin": null,
            "display": null,
            "left": null
          }
        },
        "247b7da11318494abfbd61cb51067d22": {
          "model_module": "@jupyter-widgets/controls",
          "model_name": "FloatProgressModel",
          "state": {
            "_view_name": "ProgressView",
            "style": "IPY_MODEL_22ea9ed376e549ca96a11df4e633b404",
            "_dom_classes": [],
            "description": "",
            "_model_name": "FloatProgressModel",
            "bar_style": "success",
            "max": 1,
            "_view_module": "@jupyter-widgets/controls",
            "_model_module_version": "1.5.0",
            "value": 0,
            "_view_count": null,
            "_view_module_version": "1.5.0",
            "orientation": "horizontal",
            "min": 0,
            "description_tooltip": null,
            "_model_module": "@jupyter-widgets/controls",
            "layout": "IPY_MODEL_a8be2338c2fa49aea250ef45c2287236"
          }
        },
        "998b17c8c4de43edb309ca95d7f75515": {
          "model_module": "@jupyter-widgets/controls",
          "model_name": "HTMLModel",
          "state": {
            "_view_name": "HTMLView",
            "style": "IPY_MODEL_49914742c7b24d0c868cb169ad0292e4",
            "_dom_classes": [],
            "description": "",
            "_model_name": "HTMLModel",
            "placeholder": "​",
            "_view_module": "@jupyter-widgets/controls",
            "_model_module_version": "1.5.0",
            "value": " 0/? [00:00&lt;?, ?it/s]",
            "_view_count": null,
            "_view_module_version": "1.5.0",
            "description_tooltip": null,
            "_model_module": "@jupyter-widgets/controls",
            "layout": "IPY_MODEL_e9d3a686ad3745f2b438ed35e222971d"
          }
        },
        "22ea9ed376e549ca96a11df4e633b404": {
          "model_module": "@jupyter-widgets/controls",
          "model_name": "ProgressStyleModel",
          "state": {
            "_view_name": "StyleView",
            "_model_name": "ProgressStyleModel",
            "description_width": "initial",
            "_view_module": "@jupyter-widgets/base",
            "_model_module_version": "1.5.0",
            "_view_count": null,
            "_view_module_version": "1.2.0",
            "bar_color": null,
            "_model_module": "@jupyter-widgets/controls"
          }
        },
        "a8be2338c2fa49aea250ef45c2287236": {
          "model_module": "@jupyter-widgets/base",
          "model_name": "LayoutModel",
          "state": {
            "_view_name": "LayoutView",
            "grid_template_rows": null,
            "right": null,
            "justify_content": null,
            "_view_module": "@jupyter-widgets/base",
            "overflow": null,
            "_model_module_version": "1.2.0",
            "_view_count": null,
            "flex_flow": null,
            "width": null,
            "min_width": null,
            "border": null,
            "align_items": null,
            "bottom": null,
            "_model_module": "@jupyter-widgets/base",
            "top": null,
            "grid_column": null,
            "overflow_y": null,
            "overflow_x": null,
            "grid_auto_flow": null,
            "grid_area": null,
            "grid_template_columns": null,
            "flex": null,
            "_model_name": "LayoutModel",
            "justify_items": null,
            "grid_row": null,
            "max_height": null,
            "align_content": null,
            "visibility": null,
            "align_self": null,
            "height": null,
            "min_height": null,
            "padding": null,
            "grid_auto_rows": null,
            "grid_gap": null,
            "max_width": null,
            "order": null,
            "_view_module_version": "1.2.0",
            "grid_template_areas": null,
            "object_position": null,
            "object_fit": null,
            "grid_auto_columns": null,
            "margin": null,
            "display": null,
            "left": null
          }
        },
        "49914742c7b24d0c868cb169ad0292e4": {
          "model_module": "@jupyter-widgets/controls",
          "model_name": "DescriptionStyleModel",
          "state": {
            "_view_name": "StyleView",
            "_model_name": "DescriptionStyleModel",
            "description_width": "",
            "_view_module": "@jupyter-widgets/base",
            "_model_module_version": "1.5.0",
            "_view_count": null,
            "_view_module_version": "1.2.0",
            "_model_module": "@jupyter-widgets/controls"
          }
        },
        "e9d3a686ad3745f2b438ed35e222971d": {
          "model_module": "@jupyter-widgets/base",
          "model_name": "LayoutModel",
          "state": {
            "_view_name": "LayoutView",
            "grid_template_rows": null,
            "right": null,
            "justify_content": null,
            "_view_module": "@jupyter-widgets/base",
            "overflow": null,
            "_model_module_version": "1.2.0",
            "_view_count": null,
            "flex_flow": null,
            "width": null,
            "min_width": null,
            "border": null,
            "align_items": null,
            "bottom": null,
            "_model_module": "@jupyter-widgets/base",
            "top": null,
            "grid_column": null,
            "overflow_y": null,
            "overflow_x": null,
            "grid_auto_flow": null,
            "grid_area": null,
            "grid_template_columns": null,
            "flex": null,
            "_model_name": "LayoutModel",
            "justify_items": null,
            "grid_row": null,
            "max_height": null,
            "align_content": null,
            "visibility": null,
            "align_self": null,
            "height": null,
            "min_height": null,
            "padding": null,
            "grid_auto_rows": null,
            "grid_gap": null,
            "max_width": null,
            "order": null,
            "_view_module_version": "1.2.0",
            "grid_template_areas": null,
            "object_position": null,
            "object_fit": null,
            "grid_auto_columns": null,
            "margin": null,
            "display": null,
            "left": null
          }
        }
      }
    }
  },
  "cells": [
    {
      "cell_type": "markdown",
      "metadata": {
        "id": "view-in-github",
        "colab_type": "text"
      },
      "source": [
        "<a href=\"https://colab.research.google.com/github/jakartaresearch/quora-question-pairs/blob/master/notebook/R2_word2vec.ipynb\" target=\"_parent\"><img src=\"https://colab.research.google.com/assets/colab-badge.svg\" alt=\"Open In Colab\"/></a>"
      ]
    },
    {
      "cell_type": "code",
      "metadata": {
        "id": "tvJSN3Sd8GF4",
        "colab_type": "code",
        "outputId": "d5503d6d-142b-427d-bb22-981a59fe1212",
        "colab": {
          "base_uri": "https://localhost:8080/",
          "height": 273,
          "referenced_widgets": [
            "0c94c8888abd433d8d8eada91fa5a4d7",
            "eb91279d9a4947d5ab7b1cdf00b648a0",
            "247b7da11318494abfbd61cb51067d22",
            "998b17c8c4de43edb309ca95d7f75515",
            "22ea9ed376e549ca96a11df4e633b404",
            "a8be2338c2fa49aea250ef45c2287236",
            "49914742c7b24d0c868cb169ad0292e4",
            "e9d3a686ad3745f2b438ed35e222971d"
          ]
        }
      },
      "source": [
        "# Mount Google Drive\n",
        "from google.colab import drive # import drive from google colab\n",
        "\n",
        "ROOT = \"/content/drive/\"     # default location for the drive\n",
        "drive.mount(ROOT)           # we mount the google drive at /content/drive\n",
        "\n",
        "import pandas as pd\n",
        "import nltk\n",
        "import logging\n",
        "import time\n",
        "from nltk.tokenize import word_tokenize, sent_tokenize\n",
        "from gensim.models import Word2Vec\n",
        "from gensim.models.callbacks import CallbackAny2Vec\n",
        "from sklearn.manifold import TSNE\n",
        "from tqdm import tqdm_notebook, tqdm\n",
        "tqdm_notebook().pandas()\n",
        "nltk.download('punkt')"
      ],
      "execution_count": 0,
      "outputs": [
        {
          "output_type": "stream",
          "text": [
            "Go to this URL in a browser: https://accounts.google.com/o/oauth2/auth?client_id=947318989803-6bn6qk8qdgf4n4g3pfee6491hc0brc4i.apps.googleusercontent.com&redirect_uri=urn%3aietf%3awg%3aoauth%3a2.0%3aoob&response_type=code&scope=email%20https%3a%2f%2fwww.googleapis.com%2fauth%2fdocs.test%20https%3a%2f%2fwww.googleapis.com%2fauth%2fdrive%20https%3a%2f%2fwww.googleapis.com%2fauth%2fdrive.photos.readonly%20https%3a%2f%2fwww.googleapis.com%2fauth%2fpeopleapi.readonly\n",
            "\n",
            "Enter your authorization code:\n",
            "··········\n",
            "Mounted at /content/drive/\n"
          ],
          "name": "stdout"
        },
        {
          "output_type": "stream",
          "text": [
            "/usr/local/lib/python3.6/dist-packages/ipykernel_launcher.py:15: TqdmDeprecationWarning: This function will be removed in tqdm==5.0.0\n",
            "Please use `tqdm.notebook.tqdm` instead of `tqdm.tqdm_notebook`\n",
            "  from ipykernel import kernelapp as app\n"
          ],
          "name": "stderr"
        },
        {
          "output_type": "display_data",
          "data": {
            "application/vnd.jupyter.widget-view+json": {
              "model_id": "0c94c8888abd433d8d8eada91fa5a4d7",
              "version_minor": 0,
              "version_major": 2
            },
            "text/plain": [
              "HBox(children=(FloatProgress(value=1.0, bar_style='info', max=1.0), HTML(value='')))"
            ]
          },
          "metadata": {
            "tags": []
          }
        },
        {
          "output_type": "stream",
          "text": [
            "\n",
            "[nltk_data] Downloading package punkt to /root/nltk_data...\n",
            "[nltk_data]   Unzipping tokenizers/punkt.zip.\n"
          ],
          "name": "stdout"
        },
        {
          "output_type": "execute_result",
          "data": {
            "text/plain": [
              "True"
            ]
          },
          "metadata": {
            "tags": []
          },
          "execution_count": 1
        }
      ]
    },
    {
      "cell_type": "code",
      "metadata": {
        "id": "73Ca7c6C8ZSO",
        "colab_type": "code",
        "colab": {}
      },
      "source": [
        "data_path = 'drive/My Drive/Colab Notebooks/quora-question-pairs/data/clean_quora_duplicate_questions.csv'\n",
        "data = pd.read_csv(data_path)"
      ],
      "execution_count": 0,
      "outputs": []
    },
    {
      "cell_type": "code",
      "metadata": {
        "id": "53zDI4Va_Ju-",
        "colab_type": "code",
        "outputId": "13fe72fe-3844-44de-a6b8-da31672eb223",
        "colab": {
          "base_uri": "https://localhost:8080/",
          "height": 289
        }
      },
      "source": [
        "data.head()"
      ],
      "execution_count": 0,
      "outputs": [
        {
          "output_type": "execute_result",
          "data": {
            "text/html": [
              "<div>\n",
              "<style scoped>\n",
              "    .dataframe tbody tr th:only-of-type {\n",
              "        vertical-align: middle;\n",
              "    }\n",
              "\n",
              "    .dataframe tbody tr th {\n",
              "        vertical-align: top;\n",
              "    }\n",
              "\n",
              "    .dataframe thead th {\n",
              "        text-align: right;\n",
              "    }\n",
              "</style>\n",
              "<table border=\"1\" class=\"dataframe\">\n",
              "  <thead>\n",
              "    <tr style=\"text-align: right;\">\n",
              "      <th></th>\n",
              "      <th>id</th>\n",
              "      <th>qid1</th>\n",
              "      <th>qid2</th>\n",
              "      <th>question1</th>\n",
              "      <th>question2</th>\n",
              "      <th>is_duplicate</th>\n",
              "      <th>clean_question1</th>\n",
              "      <th>clean_question2</th>\n",
              "    </tr>\n",
              "  </thead>\n",
              "  <tbody>\n",
              "    <tr>\n",
              "      <th>0</th>\n",
              "      <td>0</td>\n",
              "      <td>1</td>\n",
              "      <td>2</td>\n",
              "      <td>What is the step by step guide to invest in sh...</td>\n",
              "      <td>What is the step by step guide to invest in sh...</td>\n",
              "      <td>0</td>\n",
              "      <td>what step step guide invest share market india</td>\n",
              "      <td>what step step guide invest share market</td>\n",
              "    </tr>\n",
              "    <tr>\n",
              "      <th>1</th>\n",
              "      <td>1</td>\n",
              "      <td>3</td>\n",
              "      <td>4</td>\n",
              "      <td>What is the story of Kohinoor (Koh-i-Noor) Dia...</td>\n",
              "      <td>What would happen if the Indian government sto...</td>\n",
              "      <td>0</td>\n",
              "      <td>what story kohinoor koh noor diamond</td>\n",
              "      <td>what would happen indian government stole kohi...</td>\n",
              "    </tr>\n",
              "    <tr>\n",
              "      <th>2</th>\n",
              "      <td>2</td>\n",
              "      <td>5</td>\n",
              "      <td>6</td>\n",
              "      <td>How can I increase the speed of my internet co...</td>\n",
              "      <td>How can Internet speed be increased by hacking...</td>\n",
              "      <td>0</td>\n",
              "      <td>how increase speed internet connection using vpn</td>\n",
              "      <td>how internet speed increased hacking dns</td>\n",
              "    </tr>\n",
              "    <tr>\n",
              "      <th>3</th>\n",
              "      <td>3</td>\n",
              "      <td>7</td>\n",
              "      <td>8</td>\n",
              "      <td>Why am I mentally very lonely? How can I solve...</td>\n",
              "      <td>Find the remainder when [math]23^{24}[/math] i...</td>\n",
              "      <td>0</td>\n",
              "      <td>mentally lonely how solve</td>\n",
              "      <td>find remainder when math 23 24 math divided 24 23</td>\n",
              "    </tr>\n",
              "    <tr>\n",
              "      <th>4</th>\n",
              "      <td>4</td>\n",
              "      <td>9</td>\n",
              "      <td>10</td>\n",
              "      <td>Which one dissolve in water quikly sugar, salt...</td>\n",
              "      <td>Which fish would survive in salt water?</td>\n",
              "      <td>0</td>\n",
              "      <td>which one dissolve water quikly sugar salt met...</td>\n",
              "      <td>which fish would survive salt water</td>\n",
              "    </tr>\n",
              "  </tbody>\n",
              "</table>\n",
              "</div>"
            ],
            "text/plain": [
              "   id  ...                                    clean_question2\n",
              "0   0  ...           what step step guide invest share market\n",
              "1   1  ...  what would happen indian government stole kohi...\n",
              "2   2  ...           how internet speed increased hacking dns\n",
              "3   3  ...  find remainder when math 23 24 math divided 24 23\n",
              "4   4  ...                which fish would survive salt water\n",
              "\n",
              "[5 rows x 8 columns]"
            ]
          },
          "metadata": {
            "tags": []
          },
          "execution_count": 3
        }
      ]
    },
    {
      "cell_type": "code",
      "metadata": {
        "id": "Lf98yRQ1_Rkb",
        "colab_type": "code",
        "colab": {}
      },
      "source": [
        "clean_q1 = data['clean_question1'].values\n",
        "clean_q2 = data['clean_question2'].values\n",
        "\n",
        "questions = []\n",
        "for text in clean_q1:\n",
        "    questions.append(str(text))\n",
        "for text in clean_q2:\n",
        "    questions.append(str(text))"
      ],
      "execution_count": 0,
      "outputs": []
    },
    {
      "cell_type": "code",
      "metadata": {
        "id": "yItxCaKoCJv-",
        "colab_type": "code",
        "outputId": "74ba51c7-f6d0-4624-b298-1dcafdfffbf2",
        "colab": {
          "base_uri": "https://localhost:8080/",
          "height": 34
        }
      },
      "source": [
        "sentences = [sent_tokenize(str(text)) for text in questions]\n",
        "sentences = [sent[0].split() for sent in sentences]\n",
        "print(len(sentences))"
      ],
      "execution_count": 0,
      "outputs": [
        {
          "output_type": "stream",
          "text": [
            "808574\n"
          ],
          "name": "stdout"
        }
      ]
    },
    {
      "cell_type": "code",
      "metadata": {
        "id": "ZweWQ1o9qewW",
        "colab_type": "code",
        "outputId": "b86294bb-6a2a-4317-9637-e46939e3d6e5",
        "colab": {
          "base_uri": "https://localhost:8080/",
          "height": 34
        }
      },
      "source": [
        "import multiprocessing\n",
        "cores = multiprocessing.cpu_count() # Count the number of cores in a computer\n",
        "print(cores)"
      ],
      "execution_count": 0,
      "outputs": [
        {
          "output_type": "stream",
          "text": [
            "2\n"
          ],
          "name": "stdout"
        }
      ]
    },
    {
      "cell_type": "code",
      "metadata": {
        "id": "-SUdXKxBiLp2",
        "colab_type": "code",
        "colab": {}
      },
      "source": [
        "class callback(CallbackAny2Vec):\n",
        "    '''Callback to print loss after each epoch.'''\n",
        "\n",
        "    def __init__(self):\n",
        "        self.epoch = 0\n",
        "        self.start_time = 0\n",
        "        \n",
        "    def on_epoch_begin(self, model):\n",
        "        print(\"Epoch #{} start\".format(self.epoch))\n",
        "        self.start_time = time.time()\n",
        "        \n",
        "    def on_epoch_end(self, model):\n",
        "        loss = model.get_latest_training_loss()\n",
        "        print('Time execution per epoch : {}'.format(time.time() - self.start_time))\n",
        "\n",
        "        if self.epoch == 0:\n",
        "            print('Loss after epoch {}: {}'.format(self.epoch, loss))\n",
        "        else:\n",
        "            print('Loss after epoch {}: {}'.format(self.epoch, loss-self.loss_previous_step))\n",
        "\n",
        "        self.epoch += 1\n",
        "        self.loss_previous_step = loss"
      ],
      "execution_count": 0,
      "outputs": []
    },
    {
      "cell_type": "code",
      "metadata": {
        "id": "H3SEuIx0IZsn",
        "colab_type": "code",
        "outputId": "185588bc-3619-4436-cf13-b9f5fc9d33fd",
        "colab": {
          "base_uri": "https://localhost:8080/",
          "height": 1000
        }
      },
      "source": [
        "# init word2vec class\n",
        "w2v_model = Word2Vec(min_count=2, \n",
        "                     window=5, \n",
        "                     size=300,\n",
        "                     sg=1, # if 1, then skipgram is used; if 0, then cbow \n",
        "                     workers=cores)\n",
        "\n",
        "# build vovab\n",
        "w2v_model.build_vocab(sentences)\n",
        "\n",
        "# train the w2v model\n",
        "w2v_model.train(sentences=sentences, \n",
        "                total_examples=w2v_model.corpus_count, \n",
        "                epochs=20,\n",
        "                report_delay=1,\n",
        "                compute_loss = True, # set compute_loss = True\n",
        "                callbacks=[callback()]) # add the callback class"
      ],
      "execution_count": 0,
      "outputs": [
        {
          "output_type": "stream",
          "text": [
            "Epoch #0 start\n",
            "Time execution per epoch : 32.45560169219971\n",
            "Loss after epoch 0: 15752476.0\n",
            "Epoch #1 start\n",
            "Time execution per epoch : 32.226346254348755\n",
            "Loss after epoch 1: 10272076.0\n",
            "Epoch #2 start\n",
            "Time execution per epoch : 32.14668083190918\n",
            "Loss after epoch 2: 8965104.0\n",
            "Epoch #3 start\n",
            "Time execution per epoch : 32.29419136047363\n",
            "Loss after epoch 3: 6156704.0\n",
            "Epoch #4 start\n",
            "Time execution per epoch : 31.926127195358276\n",
            "Loss after epoch 4: 5948288.0\n",
            "Epoch #5 start\n",
            "Time execution per epoch : 31.923526525497437\n",
            "Loss after epoch 5: 5776568.0\n",
            "Epoch #6 start\n",
            "Time execution per epoch : 31.792327165603638\n",
            "Loss after epoch 6: 5607868.0\n",
            "Epoch #7 start\n",
            "Time execution per epoch : 31.72238302230835\n",
            "Loss after epoch 7: 5487540.0\n",
            "Epoch #8 start\n",
            "Time execution per epoch : 31.572829961776733\n",
            "Loss after epoch 8: 3447424.0\n",
            "Epoch #9 start\n",
            "Time execution per epoch : 31.773348569869995\n",
            "Loss after epoch 9: 720632.0\n",
            "Epoch #10 start\n",
            "Time execution per epoch : 31.481547355651855\n",
            "Loss after epoch 10: 705328.0\n",
            "Epoch #11 start\n",
            "Time execution per epoch : 31.68975019454956\n",
            "Loss after epoch 11: 685456.0\n",
            "Epoch #12 start\n",
            "Time execution per epoch : 31.54018497467041\n",
            "Loss after epoch 12: 673024.0\n",
            "Epoch #13 start\n",
            "Time execution per epoch : 31.617652654647827\n",
            "Loss after epoch 13: 655104.0\n",
            "Epoch #14 start\n",
            "Time execution per epoch : 31.364521980285645\n",
            "Loss after epoch 14: 642912.0\n",
            "Epoch #15 start\n",
            "Time execution per epoch : 31.325621604919434\n",
            "Loss after epoch 15: 629064.0\n",
            "Epoch #16 start\n",
            "Time execution per epoch : 31.346891164779663\n",
            "Loss after epoch 16: 611680.0\n",
            "Epoch #17 start\n",
            "Time execution per epoch : 31.275713443756104\n",
            "Loss after epoch 17: 603512.0\n",
            "Epoch #18 start\n",
            "Time execution per epoch : 31.539334297180176\n",
            "Loss after epoch 18: 589824.0\n",
            "Epoch #19 start\n",
            "Time execution per epoch : 31.24564003944397\n",
            "Loss after epoch 19: 569472.0\n"
          ],
          "name": "stdout"
        },
        {
          "output_type": "execute_result",
          "data": {
            "text/plain": [
              "(91132872, 104806100)"
            ]
          },
          "metadata": {
            "tags": []
          },
          "execution_count": 8
        }
      ]
    },
    {
      "cell_type": "code",
      "metadata": {
        "id": "fJ95csriImm5",
        "colab_type": "code",
        "colab": {}
      },
      "source": [
        "import pickle\n",
        "w2v = dict(zip(w2v_model.wv.index2word, w2v_model.wv.vectors))\n",
        "pickle.dump(w2v, open(\"drive/My Drive/Colab Notebooks/quora-question-pairs/data/w2v_embed.pkl\", \"wb\"))"
      ],
      "execution_count": 0,
      "outputs": []
    },
    {
      "cell_type": "code",
      "metadata": {
        "id": "vHcnDClUKbty",
        "colab_type": "code",
        "colab": {}
      },
      "source": [
        "# useful properties\n",
        "#print(w2v_model.wv['dog']) # get the word vector of 'dog'\n",
        "#print(w2v_model.wv.index2word) # get the vocabularies\n",
        "#print(w2v_model.wv.vectors) # get all word vectors"
      ],
      "execution_count": 0,
      "outputs": []
    },
    {
      "cell_type": "code",
      "metadata": {
        "id": "RTU1IYE1JqQN",
        "colab_type": "code",
        "outputId": "0c59b9e9-c8c8-4401-8259-015bd3012fc5",
        "colab": {
          "base_uri": "https://localhost:8080/",
          "height": 241
        }
      },
      "source": [
        "w2v_model.wv.most_similar(['dog'])"
      ],
      "execution_count": 0,
      "outputs": [
        {
          "output_type": "stream",
          "text": [
            "/usr/local/lib/python3.6/dist-packages/gensim/matutils.py:737: FutureWarning: Conversion of the second argument of issubdtype from `int` to `np.signedinteger` is deprecated. In future, it will be treated as `np.int64 == np.dtype(int).type`.\n",
            "  if np.issubdtype(vec.dtype, np.int):\n"
          ],
          "name": "stderr"
        },
        {
          "output_type": "execute_result",
          "data": {
            "text/plain": [
              "[('dogs', 0.5482829213142395),\n",
              " ('foamy', 0.5199366807937622),\n",
              " ('breeds', 0.5008290410041809),\n",
              " ('bile', 0.4995802342891693),\n",
              " ('neutered', 0.4985637664794922),\n",
              " ('puppy', 0.49792659282684326),\n",
              " ('leash', 0.49786514043807983),\n",
              " ('heaving', 0.4935768246650696),\n",
              " ('poops', 0.49064645171165466),\n",
              " ('doberman', 0.4875103235244751)]"
            ]
          },
          "metadata": {
            "tags": []
          },
          "execution_count": 16
        }
      ]
    },
    {
      "cell_type": "code",
      "metadata": {
        "id": "RthbI2XQMbGq",
        "colab_type": "code",
        "outputId": "a75a282e-e093-46c5-b279-388eb2102e13",
        "colab": {
          "base_uri": "https://localhost:8080/",
          "height": 71
        }
      },
      "source": [
        "w2v_model.save('drive/My Drive/Colab Notebooks/quora-question-pairs/data/word2vec.model')"
      ],
      "execution_count": 0,
      "outputs": [
        {
          "output_type": "stream",
          "text": [
            "/usr/local/lib/python3.6/dist-packages/smart_open/smart_open_lib.py:253: UserWarning: This function is deprecated, use smart_open.open instead. See the migration notes for details: https://github.com/RaRe-Technologies/smart_open/blob/master/README.rst#migrating-to-the-new-open-function\n",
            "  'See the migration notes for details: %s' % _MIGRATION_NOTES_URL\n"
          ],
          "name": "stderr"
        }
      ]
    }
  ]
}